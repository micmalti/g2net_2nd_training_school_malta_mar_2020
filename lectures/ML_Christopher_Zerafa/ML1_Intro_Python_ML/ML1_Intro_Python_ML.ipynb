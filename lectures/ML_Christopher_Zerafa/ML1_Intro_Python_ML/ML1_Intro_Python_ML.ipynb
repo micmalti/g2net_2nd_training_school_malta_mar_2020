{
  "nbformat": 4,
  "nbformat_minor": 0,
  "metadata": {
    "hide_input": false,
    "kernelspec": {
      "name": "python3",
      "display_name": "Python 3"
    },
    "language_info": {
      "codemirror_mode": {
        "name": "ipython",
        "version": 3
      },
      "file_extension": ".py",
      "mimetype": "text/x-python",
      "name": "python",
      "nbconvert_exporter": "python",
      "pygments_lexer": "ipython3",
      "version": "3.7.4"
    },
    "nbclean": true,
    "toc": {
      "base_numbering": 1,
      "nav_menu": {},
      "number_sections": true,
      "sideBar": true,
      "skip_h1_title": false,
      "title_cell": "Table of Contents",
      "title_sidebar": "Contents",
      "toc_cell": false,
      "toc_position": {
        "height": "calc(100% - 180px)",
        "left": "10px",
        "top": "150px",
        "width": "312px"
      },
      "toc_section_display": true,
      "toc_window_display": true
    },
    "colab": {
      "name": "ML1_Intro_Python_ML.ipynb",
      "provenance": []
    },
    "accelerator": "GPU"
  },
  "cells": [
    {
      "cell_type": "markdown",
      "metadata": {
        "id": "B54Pjo2MExK7",
        "colab_type": "text"
      },
      "source": [
        "# Environment Setup\n",
        "## Anaconda & Python (Language)\n",
        "\n",
        "![anconda_logo](https://upload.wikimedia.org/wikipedia/en/c/cd/Anaconda_Logo.png)\n",
        "\n",
        "Anaconda Distribution is the world's most popular Python data science platform. This handles all your Python packages, creates environments, and handles all the messy stuff.\n",
        "\n",
        "### Installation\n",
        "It is an open-source tool, available [https://www.anaconda.com/distribution/](https://www.anaconda.com/distribution/). Ideally, always go for the latest version of Python available. At the moment, this is Python3.7.\n",
        "\n",
        "## Jupyter (IDE)\n",
        "![jupyter_logo](https://www.dataquest.io/wp-content/uploads/2019/01/1-LPnY8nOLg4S6_TG0DEXwsg-1.png)\n",
        "\n",
        "We shall be using Jupyter Notebook as our IDE. This is a web-based interactive computational environment and is one of the most-commonly used tool by Data Scientist. \n",
        "### Installation\n",
        "It is automatically installed via Anaconda.\n",
        "### Getting Started\n",
        "It can be started either via terminal ```jupyter notebook``` or via GUI from Anaconda Navigator.\n",
        "### Alternative IDEs\n",
        "#### Spyder - https://www.spyder-ide.org/\n",
        "| | |\n",
        "|:-------------------------:|:-------------------------:|\n",
        "|<img width=\"300\" alt=\"spyder\" src=\"https://www.pngitem.com/pimgs/m/600-6008961_atom-spyder-python-logo-png-transparent-png.png\">| <img width=\"1604\" alt=\"spyder_ide\" src=\"https://steemitimages.com/0x0/https://s3-us-west-2.amazonaws.com/huntimages/production/steemhunt/2018-11-05/23281c4c-spyder.png\">|\n",
        "\n",
        "#### PyCharm - https://www.jetbrains.com/pycharm/\n",
        "| | |\n",
        "|:-------------------------:|:-------------------------:|\n",
        "|<img width=\"300\" alt=\"pycharm\" src=\"https://upload.wikimedia.org/wikipedia/commons/thumb/a/a1/PyCharm_Logo.svg/1200px-PyCharm_Logo.svg.png\">  |  <img width=\"1604\" alt=\"pycharm_ide\" src=\"https://confluence.jetbrains.com/download/attachments/51188837/pyCharm3.png\">|"
      ]
    },
    {
      "cell_type": "markdown",
      "metadata": {
        "id": "AALyO2RsExLZ",
        "colab_type": "text"
      },
      "source": [
        "# Intro to Machine Learning"
      ]
    },
    {
      "cell_type": "markdown",
      "metadata": {
        "id": "uAH63GC0ExL7",
        "colab_type": "text"
      },
      "source": [
        "What does it mean to learn?  Learning is a process where we take a series of observations and draw conclusions based on past experiences. For example, we can learn to recognize patterns in experiential data such as when I take the later bus, I'm late to work.  Machine Learning is when we teach a computer to do the same thing, namely find patterns in data.  The idea is that humans are really great at finding patterns, but relatively slow at looking through large amounts of data.  Computers need to be trained to find the patterns, but they can process data of the sort of we have (csv files, images, etc) incredibly fast.\n",
        "\n",
        "The revolution of Machine Learning has its roots in two main factors\n",
        "\n",
        "1. A massive amount of newly generated data\n",
        "2. A massive improvement in computer memory and performance\n",
        "\n",
        "If we want to leverage machine learning, we need to learn to teach computers to recognize patterns and leverage that ability to solve real world patterns.  Lets start with a really simple example.\n",
        "\n",
        "Say we have one dimensional data given by a single feature $X$ and a corresponding set of labels $y$.  We want to model this data, so we will create a relationship \\begin{equation} f(X) \\approx y .\\end{equation} This function $f$ will represent our model.  We will generate the data here by randomly choosing an exponent for a trend and adding some random noise.  Lets create the data and see what this looks like."
      ]
    },
    {
      "cell_type": "code",
      "metadata": {
        "ExecuteTime": {
          "end_time": "2020-03-08T06:10:45.981003Z",
          "start_time": "2020-03-08T06:10:45.950831Z"
        },
        "id": "GvEh7kuaExMR",
        "colab_type": "code",
        "colab": {}
      },
      "source": [
        "import matplotlib\n",
        "import seaborn as sns\n",
        "import numpy as np\n",
        "import matplotlib.pyplot as plt\n",
        "import pandas as pd"
      ],
      "execution_count": 0,
      "outputs": []
    },
    {
      "cell_type": "code",
      "metadata": {
        "id": "cdRh3X9kExNQ",
        "colab_type": "code",
        "colab": {}
      },
      "source": [
        "matplotlib.rcParams.update({'font.size': 18,\n",
        "                            'lines.linewidth' : 3,\n",
        "                           'figure.figsize' : [15, 5],\n",
        "                           'lines.markersize': 10})\n",
        "pd.options.mode.chained_assignment = None"
      ],
      "execution_count": 0,
      "outputs": []
    },
    {
      "cell_type": "code",
      "metadata": {
        "ExecuteTime": {
          "end_time": "2019-08-27T15:22:39.062091Z",
          "start_time": "2019-08-27T15:22:38.919504Z"
        },
        "id": "IEdcxW0EExO_",
        "colab_type": "code",
        "colab": {
          "base_uri": "https://localhost:8080/",
          "height": 328
        },
        "outputId": "353461e0-111c-4aa2-924b-56d95335091b"
      },
      "source": [
        "X = np.linspace(0, 1, 100)\n",
        "exp = np.random.choice([2, 3])\n",
        "y = X**exp + np.random.randn(X.shape[0])/10\n",
        "plt.plot(X, y, '.');"
      ],
      "execution_count": 3,
      "outputs": [
        {
          "output_type": "display_data",
          "data": {
            "image/png": "[encoded data removed]",
            "text/plain": [
              "<Figure size 1080x360 with 1 Axes>"
            ]
          },
          "metadata": {
            "tags": []
          }
        }
      ]
    },
    {
      "cell_type": "markdown",
      "metadata": {
        "id": "HOtjrSieExPs",
        "colab_type": "text"
      },
      "source": [
        "We will now generate the predictive relationship by using one of the simplest possible methods, fitting a line to the data"
      ]
    },
    {
      "cell_type": "code",
      "metadata": {
        "ExecuteTime": {
          "end_time": "2019-08-27T15:22:39.335051Z",
          "start_time": "2019-08-27T15:22:39.063399Z"
        },
        "id": "MPqzl4sqExP8",
        "colab_type": "code",
        "colab": {
          "base_uri": "https://localhost:8080/",
          "height": 328
        },
        "outputId": "fa24f60d-d4a5-4636-df7a-1b2275bd1949"
      },
      "source": [
        "p = np.polyfit(X, y, 1)\n",
        "z = np.poly1d(p)\n",
        "plt.plot(X, y, '.')\n",
        "plt.plot(X, z(X), label=r\"Model: ${:.2f}x + {:.2f}$\".format(*p))\n",
        "plt.plot(X, X**exp, label=r'Truth: $x^{}$'.format(exp))\n",
        "plt.legend();"
      ],
      "execution_count": 4,
      "outputs": [
        {
          "output_type": "display_data",
          "data": {
            "image/png": "[encoded data removed]",
            "text/plain": [
              "<Figure size 1080x360 with 1 Axes>"
            ]
          },
          "metadata": {
            "tags": []
          }
        }
      ]
    },
    {
      "cell_type": "markdown",
      "metadata": {
        "id": "_NNaRhwZExQy",
        "colab_type": "text"
      },
      "source": [
        "We now have a model for this data, learned by the computer, namely given an $X$ value (or a bunch of values), we can predict the output.  In the context of Machine Learning, this is called a Linear Regression and is a quite powerful and general method to learn.  Just this example opens up many questions we will be answering in later lectures:\n",
        "\n",
        "1. How good is the model?\n",
        "2. Is the model generalizable?\n",
        "3. What does this model teach us about the data?\n",
        "\n",
        "Lets start with question 3, which in many ways is the most important question.  For this simple model we can see that the $y$ vector of labels has a positive correlation with the features $X$. "
      ]
    },
    {
      "cell_type": "markdown",
      "metadata": {
        "id": "ggMMhE3NExQ3",
        "colab_type": "text"
      },
      "source": [
        "## Why do we do Machine Learning\n",
        "Normally the goal of machine learning is two-fold\n",
        "\n",
        "1. To understand the data we already have\n",
        "2. Use this understand to make predictions about unlabeled data\n",
        "\n",
        "Machine Learning falls into two classes, **supervised** learning and **unsupervised** learning.  In supervised learning we are trying to learn a predictive relationship between **features** of our data and some sort of output label. In unsupervised learning we want to find trends in our features without using any target labels. Unsupervised learning typically relies on reducing the dimensionality of the data.  \n",
        "\n",
        "A human example of supervised learning would be borrowing books from a library on mathematics and geography. By reading different books belonging to each topic, we learn what symbols, images, and words are associated with math, and which are associated with geography. A similar unsupervised task would be to borrow many books without knowing their subject. We can see some books contain similar images (maps) and some books contain similar symbols (e.g. the Greek letters $\\Sigma$ and $\\pi$). We say the books containing maps are similar and that they are different from the books containing Greek letters. Crucially, _we do not know what the books are about, only that they are similar or different_."
      ]
    },
    {
      "cell_type": "markdown",
      "metadata": {
        "id": "sQuV63EaExRE",
        "colab_type": "text"
      },
      "source": [
        "## Some data\n",
        "Lets introduce a dataset to play with, namely the California housing data. The data set contains the median house value for each census block group in California.\n"
      ]
    },
    {
      "cell_type": "code",
      "metadata": {
        "id": "Fooi0QxZExRL",
        "colab_type": "code",
        "colab": {
          "base_uri": "https://localhost:8080/",
          "height": 746
        },
        "outputId": "9626538c-9459-41f9-899f-ca5be7c5966e"
      },
      "source": [
        "from sklearn.datasets import fetch_california_housing\n",
        "\n",
        "# get data\n",
        "data = fetch_california_housing()\n",
        "X = data['data']\n",
        "y = data['target']\n",
        "\n",
        "print(data['DESCR'])"
      ],
      "execution_count": 5,
      "outputs": [
        {
          "output_type": "stream",
          "text": [
            "Downloading Cal. housing from https://ndownloader.figshare.com/files/5976036 to /root/scikit_learn_data\n"
          ],
          "name": "stderr"
        },
        {
          "output_type": "stream",
          "text": [
            ".. _california_housing_dataset:\n",
            "\n",
            "California Housing dataset\n",
            "--------------------------\n",
            "\n",
            "**Data Set Characteristics:**\n",
            "\n",
            "    :Number of Instances: 20640\n",
            "\n",
            "    :Number of Attributes: 8 numeric, predictive attributes and the target\n",
            "\n",
            "    :Attribute Information:\n",
            "        - MedInc        median income in block\n",
            "        - HouseAge      median house age in block\n",
            "        - AveRooms      average number of rooms\n",
            "        - AveBedrms     average number of bedrooms\n",
            "        - Population    block population\n",
            "        - AveOccup      average house occupancy\n",
            "        - Latitude      house block latitude\n",
            "        - Longitude     house block longitude\n",
            "\n",
            "    :Missing Attribute Values: None\n",
            "\n",
            "This dataset was obtained from the StatLib repository.\n",
            "http://lib.stat.cmu.edu/datasets/\n",
            "\n",
            "The target variable is the median house value for California districts.\n",
            "\n",
            "This dataset was derived from the 1990 U.S. census, using one row per census\n",
            "block group. A block group is the smallest geographical unit for which the U.S.\n",
            "Census Bureau publishes sample data (a block group typically has a population\n",
            "of 600 to 3,000 people).\n",
            "\n",
            "It can be downloaded/loaded using the\n",
            ":func:`sklearn.datasets.fetch_california_housing` function.\n",
            "\n",
            ".. topic:: References\n",
            "\n",
            "    - Pace, R. Kelley and Ronald Barry, Sparse Spatial Autoregressions,\n",
            "      Statistics and Probability Letters, 33 (1997) 291-297\n",
            "\n"
          ],
          "name": "stdout"
        }
      ]
    },
    {
      "cell_type": "markdown",
      "metadata": {
        "id": "lYZR6OwtExR4",
        "colab_type": "text"
      },
      "source": [
        "## Supervised and Unsupervised Machine Learning\n",
        "Lets first talk about supervised learning as that is where we will spend most of our time. Formally, the supervised machine problem can be stated as:\n",
        "- given a matrix $X$, of dimensions $n \\times p$, \n",
        "- create a predictive relationship (or function) $f(X)$ where\n",
        "$$ f(X) \\approx y $$ \n",
        "    - $y$ is a vector of dimension $n$.  \n",
        "    - $X$ is referred to as the **feature matrix** and $y$ as the **labels**."
      ]
    },
    {
      "cell_type": "code",
      "metadata": {
        "id": "HvUA6TfuExSC",
        "colab_type": "code",
        "colab": {
          "base_uri": "https://localhost:8080/",
          "height": 380
        },
        "outputId": "f8c8a72e-c347-4d45-a1fc-c4bc82490a28"
      },
      "source": [
        "dt_cali = fetch_california_housing()\n",
        "df_cali = pd.DataFrame(dt_cali.data, columns=dt_cali.feature_names)\n",
        "df_target = [1 if ii < 2 else 0  for ii in dt_cali['target'] ]\n",
        "numRows = 10\n",
        "df_sup = df_cali.head(numRows)\n",
        "df_sup['-'] = '--------'\n",
        "df_sup['MedianHouseValue'] = dt_cali['target'][:numRows]\n",
        "# df_sup['AffordableHouse'] = df_target[:numRows]\n",
        "print('Supervised Learning Dataset:')\n",
        "df_sup"
      ],
      "execution_count": 6,
      "outputs": [
        {
          "output_type": "stream",
          "text": [
            "Supervised Learning Dataset:\n"
          ],
          "name": "stdout"
        },
        {
          "output_type": "execute_result",
          "data": {
            "text/html": [
              "<div>\n",
              "<style scoped>\n",
              "    .dataframe tbody tr th:only-of-type {\n",
              "        vertical-align: middle;\n",
              "    }\n",
              "\n",
              "    .dataframe tbody tr th {\n",
              "        vertical-align: top;\n",
              "    }\n",
              "\n",
              "    .dataframe thead th {\n",
              "        text-align: right;\n",
              "    }\n",
              "</style>\n",
              "<table border=\"1\" class=\"dataframe\">\n",
              "  <thead>\n",
              "    <tr style=\"text-align: right;\">\n",
              "      <th></th>\n",
              "      <th>MedInc</th>\n",
              "      <th>HouseAge</th>\n",
              "      <th>AveRooms</th>\n",
              "      <th>AveBedrms</th>\n",
              "      <th>Population</th>\n",
              "      <th>AveOccup</th>\n",
              "      <th>Latitude</th>\n",
              "      <th>Longitude</th>\n",
              "      <th>-</th>\n",
              "      <th>MedianHouseValue</th>\n",
              "    </tr>\n",
              "  </thead>\n",
              "  <tbody>\n",
              "    <tr>\n",
              "      <th>0</th>\n",
              "      <td>8.3252</td>\n",
              "      <td>41.0</td>\n",
              "      <td>6.984127</td>\n",
              "      <td>1.023810</td>\n",
              "      <td>322.0</td>\n",
              "      <td>2.555556</td>\n",
              "      <td>37.88</td>\n",
              "      <td>-122.23</td>\n",
              "      <td>--------</td>\n",
              "      <td>4.526</td>\n",
              "    </tr>\n",
              "    <tr>\n",
              "      <th>1</th>\n",
              "      <td>8.3014</td>\n",
              "      <td>21.0</td>\n",
              "      <td>6.238137</td>\n",
              "      <td>0.971880</td>\n",
              "      <td>2401.0</td>\n",
              "      <td>2.109842</td>\n",
              "      <td>37.86</td>\n",
              "      <td>-122.22</td>\n",
              "      <td>--------</td>\n",
              "      <td>3.585</td>\n",
              "    </tr>\n",
              "    <tr>\n",
              "      <th>2</th>\n",
              "      <td>7.2574</td>\n",
              "      <td>52.0</td>\n",
              "      <td>8.288136</td>\n",
              "      <td>1.073446</td>\n",
              "      <td>496.0</td>\n",
              "      <td>2.802260</td>\n",
              "      <td>37.85</td>\n",
              "      <td>-122.24</td>\n",
              "      <td>--------</td>\n",
              "      <td>3.521</td>\n",
              "    </tr>\n",
              "    <tr>\n",
              "      <th>3</th>\n",
              "      <td>5.6431</td>\n",
              "      <td>52.0</td>\n",
              "      <td>5.817352</td>\n",
              "      <td>1.073059</td>\n",
              "      <td>558.0</td>\n",
              "      <td>2.547945</td>\n",
              "      <td>37.85</td>\n",
              "      <td>-122.25</td>\n",
              "      <td>--------</td>\n",
              "      <td>3.413</td>\n",
              "    </tr>\n",
              "    <tr>\n",
              "      <th>4</th>\n",
              "      <td>3.8462</td>\n",
              "      <td>52.0</td>\n",
              "      <td>6.281853</td>\n",
              "      <td>1.081081</td>\n",
              "      <td>565.0</td>\n",
              "      <td>2.181467</td>\n",
              "      <td>37.85</td>\n",
              "      <td>-122.25</td>\n",
              "      <td>--------</td>\n",
              "      <td>3.422</td>\n",
              "    </tr>\n",
              "    <tr>\n",
              "      <th>5</th>\n",
              "      <td>4.0368</td>\n",
              "      <td>52.0</td>\n",
              "      <td>4.761658</td>\n",
              "      <td>1.103627</td>\n",
              "      <td>413.0</td>\n",
              "      <td>2.139896</td>\n",
              "      <td>37.85</td>\n",
              "      <td>-122.25</td>\n",
              "      <td>--------</td>\n",
              "      <td>2.697</td>\n",
              "    </tr>\n",
              "    <tr>\n",
              "      <th>6</th>\n",
              "      <td>3.6591</td>\n",
              "      <td>52.0</td>\n",
              "      <td>4.931907</td>\n",
              "      <td>0.951362</td>\n",
              "      <td>1094.0</td>\n",
              "      <td>2.128405</td>\n",
              "      <td>37.84</td>\n",
              "      <td>-122.25</td>\n",
              "      <td>--------</td>\n",
              "      <td>2.992</td>\n",
              "    </tr>\n",
              "    <tr>\n",
              "      <th>7</th>\n",
              "      <td>3.1200</td>\n",
              "      <td>52.0</td>\n",
              "      <td>4.797527</td>\n",
              "      <td>1.061824</td>\n",
              "      <td>1157.0</td>\n",
              "      <td>1.788253</td>\n",
              "      <td>37.84</td>\n",
              "      <td>-122.25</td>\n",
              "      <td>--------</td>\n",
              "      <td>2.414</td>\n",
              "    </tr>\n",
              "    <tr>\n",
              "      <th>8</th>\n",
              "      <td>2.0804</td>\n",
              "      <td>42.0</td>\n",
              "      <td>4.294118</td>\n",
              "      <td>1.117647</td>\n",
              "      <td>1206.0</td>\n",
              "      <td>2.026891</td>\n",
              "      <td>37.84</td>\n",
              "      <td>-122.26</td>\n",
              "      <td>--------</td>\n",
              "      <td>2.267</td>\n",
              "    </tr>\n",
              "    <tr>\n",
              "      <th>9</th>\n",
              "      <td>3.6912</td>\n",
              "      <td>52.0</td>\n",
              "      <td>4.970588</td>\n",
              "      <td>0.990196</td>\n",
              "      <td>1551.0</td>\n",
              "      <td>2.172269</td>\n",
              "      <td>37.84</td>\n",
              "      <td>-122.25</td>\n",
              "      <td>--------</td>\n",
              "      <td>2.611</td>\n",
              "    </tr>\n",
              "  </tbody>\n",
              "</table>\n",
              "</div>"
            ],
            "text/plain": [
              "   MedInc  HouseAge  AveRooms  ...  Longitude         -  MedianHouseValue\n",
              "0  8.3252      41.0  6.984127  ...    -122.23  --------             4.526\n",
              "1  8.3014      21.0  6.238137  ...    -122.22  --------             3.585\n",
              "2  7.2574      52.0  8.288136  ...    -122.24  --------             3.521\n",
              "3  5.6431      52.0  5.817352  ...    -122.25  --------             3.413\n",
              "4  3.8462      52.0  6.281853  ...    -122.25  --------             3.422\n",
              "5  4.0368      52.0  4.761658  ...    -122.25  --------             2.697\n",
              "6  3.6591      52.0  4.931907  ...    -122.25  --------             2.992\n",
              "7  3.1200      52.0  4.797527  ...    -122.25  --------             2.414\n",
              "8  2.0804      42.0  4.294118  ...    -122.26  --------             2.267\n",
              "9  3.6912      52.0  4.970588  ...    -122.25  --------             2.611\n",
              "\n",
              "[10 rows x 10 columns]"
            ]
          },
          "metadata": {
            "tags": []
          },
          "execution_count": 6
        }
      ]
    },
    {
      "cell_type": "markdown",
      "metadata": {
        "id": "LReNL06UExSf",
        "colab_type": "text"
      },
      "source": [
        "The general goal of supervised learning is to then apply this model to unlabeled data where can build a feature matrix representative of the original.  This allows us to make predictions! "
      ]
    },
    {
      "cell_type": "code",
      "metadata": {
        "id": "lYy-sJ7uExSm",
        "colab_type": "code",
        "colab": {
          "base_uri": "https://localhost:8080/",
          "height": 206
        },
        "outputId": "53fcaee7-b414-4dff-8a42-8c9e423fc6bb"
      },
      "source": [
        "df_sup = df_cali.head(numRows+5)[-5:]\n",
        "df_sup['-'] = '--------'\n",
        "df_sup['MedianHouseValue'] = '?'\n",
        "# df_sup['AffordableHouse'] = '?'\n",
        "df_sup"
      ],
      "execution_count": 7,
      "outputs": [
        {
          "output_type": "execute_result",
          "data": {
            "text/html": [
              "<div>\n",
              "<style scoped>\n",
              "    .dataframe tbody tr th:only-of-type {\n",
              "        vertical-align: middle;\n",
              "    }\n",
              "\n",
              "    .dataframe tbody tr th {\n",
              "        vertical-align: top;\n",
              "    }\n",
              "\n",
              "    .dataframe thead th {\n",
              "        text-align: right;\n",
              "    }\n",
              "</style>\n",
              "<table border=\"1\" class=\"dataframe\">\n",
              "  <thead>\n",
              "    <tr style=\"text-align: right;\">\n",
              "      <th></th>\n",
              "      <th>MedInc</th>\n",
              "      <th>HouseAge</th>\n",
              "      <th>AveRooms</th>\n",
              "      <th>AveBedrms</th>\n",
              "      <th>Population</th>\n",
              "      <th>AveOccup</th>\n",
              "      <th>Latitude</th>\n",
              "      <th>Longitude</th>\n",
              "      <th>-</th>\n",
              "      <th>MedianHouseValue</th>\n",
              "    </tr>\n",
              "  </thead>\n",
              "  <tbody>\n",
              "    <tr>\n",
              "      <th>10</th>\n",
              "      <td>3.2031</td>\n",
              "      <td>52.0</td>\n",
              "      <td>5.477612</td>\n",
              "      <td>1.079602</td>\n",
              "      <td>910.0</td>\n",
              "      <td>2.263682</td>\n",
              "      <td>37.85</td>\n",
              "      <td>-122.26</td>\n",
              "      <td>--------</td>\n",
              "      <td>?</td>\n",
              "    </tr>\n",
              "    <tr>\n",
              "      <th>11</th>\n",
              "      <td>3.2705</td>\n",
              "      <td>52.0</td>\n",
              "      <td>4.772480</td>\n",
              "      <td>1.024523</td>\n",
              "      <td>1504.0</td>\n",
              "      <td>2.049046</td>\n",
              "      <td>37.85</td>\n",
              "      <td>-122.26</td>\n",
              "      <td>--------</td>\n",
              "      <td>?</td>\n",
              "    </tr>\n",
              "    <tr>\n",
              "      <th>12</th>\n",
              "      <td>3.0750</td>\n",
              "      <td>52.0</td>\n",
              "      <td>5.322650</td>\n",
              "      <td>1.012821</td>\n",
              "      <td>1098.0</td>\n",
              "      <td>2.346154</td>\n",
              "      <td>37.85</td>\n",
              "      <td>-122.26</td>\n",
              "      <td>--------</td>\n",
              "      <td>?</td>\n",
              "    </tr>\n",
              "    <tr>\n",
              "      <th>13</th>\n",
              "      <td>2.6736</td>\n",
              "      <td>52.0</td>\n",
              "      <td>4.000000</td>\n",
              "      <td>1.097701</td>\n",
              "      <td>345.0</td>\n",
              "      <td>1.982759</td>\n",
              "      <td>37.84</td>\n",
              "      <td>-122.26</td>\n",
              "      <td>--------</td>\n",
              "      <td>?</td>\n",
              "    </tr>\n",
              "    <tr>\n",
              "      <th>14</th>\n",
              "      <td>1.9167</td>\n",
              "      <td>52.0</td>\n",
              "      <td>4.262903</td>\n",
              "      <td>1.009677</td>\n",
              "      <td>1212.0</td>\n",
              "      <td>1.954839</td>\n",
              "      <td>37.85</td>\n",
              "      <td>-122.26</td>\n",
              "      <td>--------</td>\n",
              "      <td>?</td>\n",
              "    </tr>\n",
              "  </tbody>\n",
              "</table>\n",
              "</div>"
            ],
            "text/plain": [
              "    MedInc  HouseAge  AveRooms  ...  Longitude         -  MedianHouseValue\n",
              "10  3.2031      52.0  5.477612  ...    -122.26  --------                 ?\n",
              "11  3.2705      52.0  4.772480  ...    -122.26  --------                 ?\n",
              "12  3.0750      52.0  5.322650  ...    -122.26  --------                 ?\n",
              "13  2.6736      52.0  4.000000  ...    -122.26  --------                 ?\n",
              "14  1.9167      52.0  4.262903  ...    -122.26  --------                 ?\n",
              "\n",
              "[5 rows x 10 columns]"
            ]
          },
          "metadata": {
            "tags": []
          },
          "execution_count": 7
        }
      ]
    },
    {
      "cell_type": "code",
      "metadata": {
        "id": "MFQ18hlpExS7",
        "colab_type": "code",
        "colab": {
          "base_uri": "https://localhost:8080/",
          "height": 380
        },
        "outputId": "712a539a-f92a-4b56-9aff-13ddebc3ecbc"
      },
      "source": [
        "print('Unsupervised Learning Dataset:')\n",
        "df_cali.head(numRows)"
      ],
      "execution_count": 8,
      "outputs": [
        {
          "output_type": "stream",
          "text": [
            "Unsupervised Learning Dataset:\n"
          ],
          "name": "stdout"
        },
        {
          "output_type": "execute_result",
          "data": {
            "text/html": [
              "<div>\n",
              "<style scoped>\n",
              "    .dataframe tbody tr th:only-of-type {\n",
              "        vertical-align: middle;\n",
              "    }\n",
              "\n",
              "    .dataframe tbody tr th {\n",
              "        vertical-align: top;\n",
              "    }\n",
              "\n",
              "    .dataframe thead th {\n",
              "        text-align: right;\n",
              "    }\n",
              "</style>\n",
              "<table border=\"1\" class=\"dataframe\">\n",
              "  <thead>\n",
              "    <tr style=\"text-align: right;\">\n",
              "      <th></th>\n",
              "      <th>MedInc</th>\n",
              "      <th>HouseAge</th>\n",
              "      <th>AveRooms</th>\n",
              "      <th>AveBedrms</th>\n",
              "      <th>Population</th>\n",
              "      <th>AveOccup</th>\n",
              "      <th>Latitude</th>\n",
              "      <th>Longitude</th>\n",
              "    </tr>\n",
              "  </thead>\n",
              "  <tbody>\n",
              "    <tr>\n",
              "      <th>0</th>\n",
              "      <td>8.3252</td>\n",
              "      <td>41.0</td>\n",
              "      <td>6.984127</td>\n",
              "      <td>1.023810</td>\n",
              "      <td>322.0</td>\n",
              "      <td>2.555556</td>\n",
              "      <td>37.88</td>\n",
              "      <td>-122.23</td>\n",
              "    </tr>\n",
              "    <tr>\n",
              "      <th>1</th>\n",
              "      <td>8.3014</td>\n",
              "      <td>21.0</td>\n",
              "      <td>6.238137</td>\n",
              "      <td>0.971880</td>\n",
              "      <td>2401.0</td>\n",
              "      <td>2.109842</td>\n",
              "      <td>37.86</td>\n",
              "      <td>-122.22</td>\n",
              "    </tr>\n",
              "    <tr>\n",
              "      <th>2</th>\n",
              "      <td>7.2574</td>\n",
              "      <td>52.0</td>\n",
              "      <td>8.288136</td>\n",
              "      <td>1.073446</td>\n",
              "      <td>496.0</td>\n",
              "      <td>2.802260</td>\n",
              "      <td>37.85</td>\n",
              "      <td>-122.24</td>\n",
              "    </tr>\n",
              "    <tr>\n",
              "      <th>3</th>\n",
              "      <td>5.6431</td>\n",
              "      <td>52.0</td>\n",
              "      <td>5.817352</td>\n",
              "      <td>1.073059</td>\n",
              "      <td>558.0</td>\n",
              "      <td>2.547945</td>\n",
              "      <td>37.85</td>\n",
              "      <td>-122.25</td>\n",
              "    </tr>\n",
              "    <tr>\n",
              "      <th>4</th>\n",
              "      <td>3.8462</td>\n",
              "      <td>52.0</td>\n",
              "      <td>6.281853</td>\n",
              "      <td>1.081081</td>\n",
              "      <td>565.0</td>\n",
              "      <td>2.181467</td>\n",
              "      <td>37.85</td>\n",
              "      <td>-122.25</td>\n",
              "    </tr>\n",
              "    <tr>\n",
              "      <th>5</th>\n",
              "      <td>4.0368</td>\n",
              "      <td>52.0</td>\n",
              "      <td>4.761658</td>\n",
              "      <td>1.103627</td>\n",
              "      <td>413.0</td>\n",
              "      <td>2.139896</td>\n",
              "      <td>37.85</td>\n",
              "      <td>-122.25</td>\n",
              "    </tr>\n",
              "    <tr>\n",
              "      <th>6</th>\n",
              "      <td>3.6591</td>\n",
              "      <td>52.0</td>\n",
              "      <td>4.931907</td>\n",
              "      <td>0.951362</td>\n",
              "      <td>1094.0</td>\n",
              "      <td>2.128405</td>\n",
              "      <td>37.84</td>\n",
              "      <td>-122.25</td>\n",
              "    </tr>\n",
              "    <tr>\n",
              "      <th>7</th>\n",
              "      <td>3.1200</td>\n",
              "      <td>52.0</td>\n",
              "      <td>4.797527</td>\n",
              "      <td>1.061824</td>\n",
              "      <td>1157.0</td>\n",
              "      <td>1.788253</td>\n",
              "      <td>37.84</td>\n",
              "      <td>-122.25</td>\n",
              "    </tr>\n",
              "    <tr>\n",
              "      <th>8</th>\n",
              "      <td>2.0804</td>\n",
              "      <td>42.0</td>\n",
              "      <td>4.294118</td>\n",
              "      <td>1.117647</td>\n",
              "      <td>1206.0</td>\n",
              "      <td>2.026891</td>\n",
              "      <td>37.84</td>\n",
              "      <td>-122.26</td>\n",
              "    </tr>\n",
              "    <tr>\n",
              "      <th>9</th>\n",
              "      <td>3.6912</td>\n",
              "      <td>52.0</td>\n",
              "      <td>4.970588</td>\n",
              "      <td>0.990196</td>\n",
              "      <td>1551.0</td>\n",
              "      <td>2.172269</td>\n",
              "      <td>37.84</td>\n",
              "      <td>-122.25</td>\n",
              "    </tr>\n",
              "  </tbody>\n",
              "</table>\n",
              "</div>"
            ],
            "text/plain": [
              "   MedInc  HouseAge  AveRooms  ...  AveOccup  Latitude  Longitude\n",
              "0  8.3252      41.0  6.984127  ...  2.555556     37.88    -122.23\n",
              "1  8.3014      21.0  6.238137  ...  2.109842     37.86    -122.22\n",
              "2  7.2574      52.0  8.288136  ...  2.802260     37.85    -122.24\n",
              "3  5.6431      52.0  5.817352  ...  2.547945     37.85    -122.25\n",
              "4  3.8462      52.0  6.281853  ...  2.181467     37.85    -122.25\n",
              "5  4.0368      52.0  4.761658  ...  2.139896     37.85    -122.25\n",
              "6  3.6591      52.0  4.931907  ...  2.128405     37.84    -122.25\n",
              "7  3.1200      52.0  4.797527  ...  1.788253     37.84    -122.25\n",
              "8  2.0804      42.0  4.294118  ...  2.026891     37.84    -122.26\n",
              "9  3.6912      52.0  4.970588  ...  2.172269     37.84    -122.25\n",
              "\n",
              "[10 rows x 8 columns]"
            ]
          },
          "metadata": {
            "tags": []
          },
          "execution_count": 8
        }
      ]
    },
    {
      "cell_type": "markdown",
      "metadata": {
        "id": "5cd2aj32ExTf",
        "colab_type": "text"
      },
      "source": [
        "I will not be expanding more on Unsupervised Learning. However, I have provided a notebook ```ML99_Clustering``` for any interested parties.\n",
        "\n",
        "\n",
        "Of course, machine learning is just a tool, one which must be applied with care and thought.  It is not the ideal solution to every problem.  Let us take a look at some of the issues we might find."
      ]
    },
    {
      "cell_type": "markdown",
      "metadata": {
        "id": "oN7832hHExTp",
        "colab_type": "text"
      },
      "source": [
        "## Machine Learning Difficulties\n",
        "\n",
        "Models can be heavily biased and thus not flexible enough to handle generalization.  Let us plot our original function over a larger range and use the model from before."
      ]
    },
    {
      "cell_type": "code",
      "metadata": {
        "ExecuteTime": {
          "end_time": "2019-08-27T15:22:39.486956Z",
          "start_time": "2019-08-27T15:22:39.336588Z"
        },
        "id": "o8EivKCYExT0",
        "colab_type": "code",
        "colab": {
          "base_uri": "https://localhost:8080/",
          "height": 382
        },
        "outputId": "b6f4fe52-c561-4e11-947e-c14049ba3472"
      },
      "source": [
        "X = np.linspace(0, 2, 100)\n",
        "y = X**exp + np.random.randn(X.shape[0])/10\n",
        "plt.figure(figsize=(14,6))\n",
        "plt.plot(X, z(X), label=r\"${:.2f}x + {:.2f}$\".format(*p))\n",
        "plt.plot(X, y,'.', label=r'$x^{}$'.format(exp))\n",
        "plt.legend();"
      ],
      "execution_count": 9,
      "outputs": [
        {
          "output_type": "display_data",
          "data": {
            "image/png": "[encoded data removed]",
            "text/plain": [
              "<Figure size 1008x432 with 1 Axes>"
            ]
          },
          "metadata": {
            "tags": []
          }
        }
      ]
    },
    {
      "cell_type": "markdown",
      "metadata": {
        "id": "uZbLSBwUExUS",
        "colab_type": "text"
      },
      "source": [
        "The model works fairly well for the range over which initially considered our data, but we can see it will not generalize well to features outside the of the range we considered.  This is a general problem; we should be careful that our training data contains a well sampled distribution over which we expect to make predictions (or we have some prior knowledge that tells us we should be able to extrapolate beyond the domain of our training data).  Machine learning finds patterns in data that it's already seen, and it can't always make good predictions on data it hasn't. \n",
        "\n",
        "Lets try to fix this by adding more parameters to the model."
      ]
    },
    {
      "cell_type": "code",
      "metadata": {
        "ExecuteTime": {
          "end_time": "2019-08-27T15:22:39.680392Z",
          "start_time": "2019-08-27T15:22:39.488493Z"
        },
        "id": "evUzacFmExUh",
        "colab_type": "code",
        "colab": {
          "base_uri": "https://localhost:8080/",
          "height": 382
        },
        "outputId": "ec364b32-e544-4d11-b928-e2fa07e03194"
      },
      "source": [
        "p = np.polyfit(X, y, 15)\n",
        "z = np.poly1d(p)\n",
        "plt.figure(figsize=[14, 6])\n",
        "plt.plot(X, z(X), label=r\"${:.2f}x^{{15}} + {:.2f}x^{{14}} + ... + {:.2f}$\".format(*p[[0, 1, -1]]))\n",
        "plt.plot(X, y,'.', label=r'$x^{}$'.format(exp))\n",
        "plt.legend();"
      ],
      "execution_count": 10,
      "outputs": [
        {
          "output_type": "display_data",
          "data": {
            "image/png": "[encoded data removed]",
            "text/plain": [
              "<Figure size 1008x432 with 1 Axes>"
            ]
          },
          "metadata": {
            "tags": []
          }
        }
      ]
    },
    {
      "cell_type": "markdown",
      "metadata": {
        "id": "G_fFmn_MExVC",
        "colab_type": "text"
      },
      "source": [
        "Wow looks like a perfect fit!  Maybe too good?  It looks like the model is fitting little wiggles in the data which we know are not real (the actual data is derived from a simple exponent).  Lets try to generalize again."
      ]
    },
    {
      "cell_type": "code",
      "metadata": {
        "ExecuteTime": {
          "end_time": "2019-08-27T15:22:39.821325Z",
          "start_time": "2019-08-27T15:22:39.682645Z"
        },
        "id": "Vox1hpHrExVI",
        "colab_type": "code",
        "colab": {
          "base_uri": "https://localhost:8080/",
          "height": 382
        },
        "outputId": "90bdf8f3-4669-4513-d765-f4a64e6cfaad"
      },
      "source": [
        "X = np.linspace(0, 2.5, 100)\n",
        "y = X**exp + np.random.randn(X.shape[0])/10\n",
        "plt.figure(figsize=(14,6))\n",
        "plt.plot(X, z(X), label=r\"model\")\n",
        "plt.plot(X, y,'.', label=r'$x^{}$'.format(exp))\n",
        "plt.legend();"
      ],
      "execution_count": 11,
      "outputs": [
        {
          "output_type": "display_data",
          "data": {
            "image/png": "[encoded data removed]",
            "text/plain": [
              "<Figure size 1008x432 with 1 Axes>"
            ]
          },
          "metadata": {
            "tags": []
          }
        }
      ]
    },
    {
      "cell_type": "markdown",
      "metadata": {
        "id": "NjiO-cHBExVm",
        "colab_type": "text"
      },
      "source": [
        "Wow again!  That is pretty bad.  This is an example of overfitting, where we have allowed the model too much flexibility and it has fit the noise in the data which is not generalizable.\n",
        "\n",
        "We will learn more how to combat these issues, but the point is that we need to be careful when choose the model we want to use and the **hyperparameters** (in this case order of the \n",
        ") for the model."
      ]
    },
    {
      "cell_type": "markdown",
      "metadata": {
        "id": "xNVC64fhExVt",
        "colab_type": "text"
      },
      "source": [
        "# Scikit-Learn\n",
        "\n",
        "In order to perform machine learning we will make use of the `scikit-learn` package will will offer a unified class based interface to different machine learning models and utilities.  \n",
        "\n",
        "`Scikit-learn` is one of the most popular Python package for machine learning. It has a plethora of machine learning models and provides functions that are often needed for a machine learning workflow. As you will see, it has a nice and intuitive interface. It makes creating complicated machine learning workflows very easy. It is based around the idea of an `Estimator` class which implements the methods necessary for machine learning. Each estimator object will implement a `fit` method which accepts as arguments a feature matrix `X` and a label vector `y` as well as a `predict` method which accepts a an argument a feature matrix `X`.  Lets go through an example.  \n",
        "\n",
        "First we will need to import the estimator we want, in this case a `LinearRegression` (we only have to do this once per namespace, its just a Python class)."
      ]
    },
    {
      "cell_type": "code",
      "metadata": {
        "ExecuteTime": {
          "end_time": "2019-08-27T15:22:40.098626Z",
          "start_time": "2019-08-27T15:22:39.823002Z"
        },
        "id": "0MTIPxZ8ExV0",
        "colab_type": "code",
        "colab": {}
      },
      "source": [
        "from sklearn.linear_model import LinearRegression"
      ],
      "execution_count": 0,
      "outputs": []
    },
    {
      "cell_type": "markdown",
      "metadata": {
        "id": "f2NCNm_aExWL",
        "colab_type": "text"
      },
      "source": [
        "Now we can instantiate an instance of this class and pass any hyperparameters into the creation.  The [`LinearRegression`](http://scikit-learn.org/stable/modules/generated/sklearn.linear_model.LinearRegression.html) has two main hyperparameters, `fit_intercept` and `normalize`.  These have default values, but we will specify them here explicitly."
      ]
    },
    {
      "cell_type": "code",
      "metadata": {
        "ExecuteTime": {
          "end_time": "2019-08-27T15:22:40.104381Z",
          "start_time": "2019-08-27T15:22:40.100279Z"
        },
        "id": "1Rd398kbExWQ",
        "colab_type": "code",
        "colab": {
          "base_uri": "https://localhost:8080/",
          "height": 34
        },
        "outputId": "d2c2184a-8f5d-44ce-d798-6ea392e747d4"
      },
      "source": [
        "lr = LinearRegression(fit_intercept=True, normalize=False)\n",
        "lr"
      ],
      "execution_count": 13,
      "outputs": [
        {
          "output_type": "execute_result",
          "data": {
            "text/plain": [
              "LinearRegression(copy_X=True, fit_intercept=True, n_jobs=None, normalize=False)"
            ]
          },
          "metadata": {
            "tags": []
          },
          "execution_count": 13
        }
      ]
    },
    {
      "cell_type": "markdown",
      "metadata": {
        "id": "uoOSZZzRExWj",
        "colab_type": "text"
      },
      "source": [
        "Now we can use this object to fit our data from before.  We will use the `fit` method to do this.  We will need to reshape the `X` vector so that its a feature matrix of a single column instead of a one dimensional vector."
      ]
    },
    {
      "cell_type": "code",
      "metadata": {
        "ExecuteTime": {
          "end_time": "2019-08-27T15:22:40.110468Z",
          "start_time": "2019-08-27T15:22:40.105777Z"
        },
        "id": "kQ_M2ObxExWq",
        "colab_type": "code",
        "colab": {
          "base_uri": "https://localhost:8080/",
          "height": 34
        },
        "outputId": "62d2b9ca-ffc9-40b8-a349-7e7f80d7a01c"
      },
      "source": [
        "lr.fit(X.reshape(-1, 1), y)"
      ],
      "execution_count": 14,
      "outputs": [
        {
          "output_type": "execute_result",
          "data": {
            "text/plain": [
              "LinearRegression(copy_X=True, fit_intercept=True, n_jobs=None, normalize=False)"
            ]
          },
          "metadata": {
            "tags": []
          },
          "execution_count": 14
        }
      ]
    },
    {
      "cell_type": "markdown",
      "metadata": {
        "id": "dUX0YeYfExXF",
        "colab_type": "text"
      },
      "source": [
        "The `fit` method will perform the fit and save the fitted parameters internal to the state of the object.  We can see them if we wish."
      ]
    },
    {
      "cell_type": "code",
      "metadata": {
        "ExecuteTime": {
          "end_time": "2019-08-27T15:22:40.116214Z",
          "start_time": "2019-08-27T15:22:40.112347Z"
        },
        "id": "hT_Oly2eExXJ",
        "colab_type": "code",
        "colab": {
          "base_uri": "https://localhost:8080/",
          "height": 34
        },
        "outputId": "c69cc857-71da-4ffc-d4e2-ad566ccad292"
      },
      "source": [
        "lr.coef_, lr.intercept_"
      ],
      "execution_count": 15,
      "outputs": [
        {
          "output_type": "execute_result",
          "data": {
            "text/plain": [
              "(array([2.4946565]), -1.03546302911381)"
            ]
          },
          "metadata": {
            "tags": []
          },
          "execution_count": 15
        }
      ]
    },
    {
      "cell_type": "markdown",
      "metadata": {
        "id": "UW92UE_bExXh",
        "colab_type": "text"
      },
      "source": [
        "Saving the parameters inside the instance is extremely useful as it allows us to pickle the entire object and save the parameters inside the model itself.  \n",
        "\n",
        "Lastly we can use the `predict` method to make predictions. "
      ]
    },
    {
      "cell_type": "code",
      "metadata": {
        "ExecuteTime": {
          "end_time": "2019-08-27T15:22:40.260013Z",
          "start_time": "2019-08-27T15:22:40.118046Z"
        },
        "id": "Dgp-gtm6ExXv",
        "colab_type": "code",
        "colab": {
          "base_uri": "https://localhost:8080/",
          "height": 382
        },
        "outputId": "7f9116ea-fbbb-4ab0-f178-be9b854d5b0c"
      },
      "source": [
        "predictions = lr.predict(X.reshape(-1, 1))\n",
        "plt.figure(figsize=(14,6))\n",
        "plt.plot(X, y, '.', label='data')\n",
        "plt.plot(X, predictions, label='model')\n",
        "plt.legend();"
      ],
      "execution_count": 16,
      "outputs": [
        {
          "output_type": "display_data",
          "data": {
            "image/png": "[encoded data removed]",
            "text/plain": [
              "<Figure size 1008x432 with 1 Axes>"
            ]
          },
          "metadata": {
            "tags": []
          }
        }
      ]
    },
    {
      "cell_type": "markdown",
      "metadata": {
        "id": "0Q1JRRB8ExYA",
        "colab_type": "text"
      },
      "source": [
        "We will explore linear models in more detail in a later lecture, but if we want to make this model better, we will need to engineer some better features.  To get a sneak peak of where we are going, lets deploy some more `scikit-learn` machinery."
      ]
    },
    {
      "cell_type": "code",
      "metadata": {
        "id": "a-JNX1XiExYG",
        "colab_type": "code",
        "colab": {
          "base_uri": "https://localhost:8080/",
          "height": 382
        },
        "outputId": "360103ab-0f3b-4021-994f-fa34589ff11b"
      },
      "source": [
        "from sklearn.preprocessing import PolynomialFeatures\n",
        "\n",
        "pf = PolynomialFeatures(3)  #feature engineering to generalize the model\n",
        "lr = LinearRegression()\n",
        "\n",
        "X_t = X.reshape(-1,1)\n",
        "X_t = pf.fit_transform(X_t)\n",
        "lr_fitted = lr.fit(X_t,y)\n",
        "\n",
        "predictions = lr_fitted.predict(X_t)\n",
        "\n",
        "plt.figure(figsize=(14,6))\n",
        "plt.plot(X, y, '.', label='data')\n",
        "plt.plot(X, predictions, label='model')\n",
        "plt.legend();"
      ],
      "execution_count": 17,
      "outputs": [
        {
          "output_type": "display_data",
          "data": {
            "image/png": "[encoded data removed]",
            "text/plain": [
              "<Figure size 1008x432 with 1 Axes>"
            ]
          },
          "metadata": {
            "tags": []
          }
        }
      ]
    },
    {
      "cell_type": "markdown",
      "metadata": {
        "id": "lKKPCGzaExYc",
        "colab_type": "text"
      },
      "source": [
        "Does this generalize?"
      ]
    },
    {
      "cell_type": "code",
      "metadata": {
        "ExecuteTime": {
          "end_time": "2019-08-27T15:22:40.598010Z",
          "start_time": "2019-08-27T15:22:40.415199Z"
        },
        "id": "vvZigENWExYl",
        "colab_type": "code",
        "colab": {
          "base_uri": "https://localhost:8080/",
          "height": 382
        },
        "outputId": "176a46ac-dd74-49f6-cca9-041132d5bcb0"
      },
      "source": [
        "X = np.linspace(0, 4, 100)\n",
        "y = X**exp + np.random.randn(X.shape[0])/10\n",
        "\n",
        "\n",
        "X_t = X.reshape(-1,1)\n",
        "X_t = pf.fit_transform(X_t)\n",
        "lr_fitted = lr.fit(X_t,y)\n",
        "predictions = lr_fitted.predict(X_t)\n",
        "\n",
        "plt.figure(figsize=(14,6))\n",
        "plt.plot(X, y, '.', label='data')\n",
        "plt.plot(X, predictions, label='model')\n",
        "plt.legend();"
      ],
      "execution_count": 18,
      "outputs": [
        {
          "output_type": "display_data",
          "data": {
            "image/png": "[encoded data removed]",
            "text/plain": [
              "<Figure size 1008x432 with 1 Axes>"
            ]
          },
          "metadata": {
            "tags": []
          }
        }
      ]
    },
    {
      "cell_type": "markdown",
      "metadata": {
        "id": "vGktUFEnExY8",
        "colab_type": "text"
      },
      "source": [
        "## Machine learning models as classes\n",
        "\n",
        "`Scikit-learn` relies heavily on object-oriented programming principles. It implements machine learning algorithms as classes and users create objects from these \"recipes\". For example, `Ridge` is a class representing the ridge regression model. To create a `Ridge` object, we simply create an instance of the class. In Python, the convention is that class names use CamelCase, the first letter of each word is capitalized. `Scikit-learn` adopts the convention, making it easy to distinguish what is a class."
      ]
    },
    {
      "cell_type": "code",
      "metadata": {
        "ExecuteTime": {
          "end_time": "2019-08-27T15:22:52.724328Z",
          "start_time": "2019-08-27T15:22:52.687025Z"
        },
        "id": "8wHdC5ChExZB",
        "colab_type": "code",
        "colab": {}
      },
      "source": [
        "from sklearn.linear_model import Ridge\n",
        "\n",
        "ridge = Ridge(alpha=0.1)"
      ],
      "execution_count": 0,
      "outputs": []
    },
    {
      "cell_type": "markdown",
      "metadata": {
        "id": "xBieJ3E5ExZX",
        "colab_type": "text"
      },
      "source": [
        "In the above code, we set `alpha=0.1`. Here, `alpha` is a **hyperparameter** of the ridge model. Hyperparameters are model parameters that govern the learning process. In terms of hierarchy, they reside \"above\" the regular model parameters. They control what values the model parameters are equal to after undergoing training. They can be easily identified as they are the parameters that are set _prior_ to learning. In `scikit-learn`, hyperparameters are set when creating an instance of the class. The default values that `scikit-learn` uses are _usually_ a good set of initial values but this is not always the case. It is important to understand the hyperparameters available and how they affect model performance."
      ]
    },
    {
      "cell_type": "markdown",
      "metadata": {
        "id": "_VHImPMDExZc",
        "colab_type": "text"
      },
      "source": [
        "`Scikit-learn` refers to machine learning algorithms as **estimators**. There are three different types of estimators: \n",
        "1. classifiers, \n",
        "1. regressors, and \n",
        "1. transformers. \n",
        "\n",
        "Programmatically, `scikit-learn` has a base class called `BaseEstimator` that all estimators inherit. The models inherit an additional class, either `RegressorMixin`, `ClassifierMixin`, and `TransformerMixin`. The inheritance of the second class determines what type of estimator the model represents. We'll divide the estimators into two groups based up on their interface. These two groups are **predictors** and **transformers**."
      ]
    },
    {
      "cell_type": "markdown",
      "metadata": {
        "id": "am5VMuiPExZf",
        "colab_type": "text"
      },
      "source": [
        "## Predictors: classifiers and regressors\n",
        "\n",
        "As the name suggests, predictors are models that make predictions. There are two main methods.\n",
        "\n",
        "* `fit(X, y)`: trains/fit the object to the feature matrix $X$ and label vector $y$.\n",
        "* `predict(X)`: makes predictions on the passed data set $X$."
      ]
    },
    {
      "cell_type": "code",
      "metadata": {
        "ExecuteTime": {
          "end_time": "2019-08-27T15:22:52.742289Z",
          "start_time": "2019-08-27T15:22:52.726136Z"
        },
        "id": "Yf0IyRNLExZi",
        "colab_type": "code",
        "colab": {
          "base_uri": "https://localhost:8080/",
          "height": 69
        },
        "outputId": "8b671fac-0993-436b-eec0-0024fa3b104b"
      },
      "source": [
        "from sklearn.linear_model import LinearRegression\n",
        "\n",
        "# reload California Dataset\n",
        "data = fetch_california_housing()\n",
        "X = data['data']\n",
        "y = data['target']\n",
        "\n",
        "# create model and train/fit\n",
        "model = LinearRegression()\n",
        "model.fit(X, y)\n",
        "\n",
        "# predict label values on X\n",
        "y_pred = model.predict(X)\n",
        "\n",
        "print(y_pred)\n",
        "print(\"shape of the prediction array: {}\".format(y_pred.shape))\n",
        "print(\"shape of the training set: {}\".format(X.shape))"
      ],
      "execution_count": 20,
      "outputs": [
        {
          "output_type": "stream",
          "text": [
            "[4.13164983 3.97660644 3.67657094 ... 0.17125141 0.31910524 0.51580363]\n",
            "shape of the prediction array: (20640,)\n",
            "shape of the training set: (20640, 8)\n"
          ],
          "name": "stdout"
        }
      ]
    },
    {
      "cell_type": "markdown",
      "metadata": {
        "id": "NqKJ-y7KExaG",
        "colab_type": "text"
      },
      "source": [
        "Note, the output of `predict(X)` is a NumPy array of one dimension. The array has the same size as the number of rows of the data that was passed to the `predict` method. \n",
        "\n",
        "Since we are using linear regression and our data has eight features, our model is\n",
        "\n",
        "$$ y(X) = \\beta_1 x_1 + \\beta_2 x_2 + \\beta_3 x_3 + \\beta_4 x_4 + \\beta_5 x_5 + \\beta_6 x_6 + \\beta_7 x_7 + \\beta_8 x_8 + \\beta_0. $$\n",
        "\n",
        "The coefficients are stored in the fitted model as an object's attribute. `Scikit-learn` adopts a convention where all attributes that are determined/calculated _after_ fitting end in an underscore. The model coefficients and intercept are retrieved using the `coefs_` and the `intercept_` attributes, respectively."
      ]
    },
    {
      "cell_type": "code",
      "metadata": {
        "ExecuteTime": {
          "end_time": "2019-08-27T15:22:52.750298Z",
          "start_time": "2019-08-27T15:22:52.744469Z"
        },
        "id": "htZHkzwIExaN",
        "colab_type": "code",
        "colab": {
          "base_uri": "https://localhost:8080/",
          "height": 173
        },
        "outputId": "ce32f7b0-f279-4a1c-9d63-bc6b38a242b6"
      },
      "source": [
        "print(\"β_0: {}\".format(model.intercept_))\n",
        "\n",
        "for i in range(8):\n",
        "    print(\"β_{}: {}\".format(i+1, model.coef_[i]))"
      ],
      "execution_count": 21,
      "outputs": [
        {
          "output_type": "stream",
          "text": [
            "β_0: -36.94192020718441\n",
            "β_1: 0.4366932931343245\n",
            "β_2: 0.009435778033237972\n",
            "β_3: -0.10732204139090447\n",
            "β_4: 0.645065693519812\n",
            "β_5: -3.976389421211576e-06\n",
            "β_6: -0.003786542654971\n",
            "β_7: -0.42131437752714385\n",
            "β_8: -0.43451375467477743\n"
          ],
          "name": "stdout"
        }
      ]
    },
    {
      "cell_type": "markdown",
      "metadata": {
        "id": "f8T9PBm-Exal",
        "colab_type": "text"
      },
      "source": [
        "If we wanted to know how well the model performs making predictions with a data set, we can use the `score(X, y)` method. It works by\n",
        "\n",
        "1. Internally running `predict(X)` to produce predicted values.\n",
        "1. Using the predicted values to evaluate the model compared to the true label values that were passed to the method.\n",
        "\n",
        "The evaluation equation varies depending if the model is a regressor or classifier. For regression, it is the $R^2$ value while for classification, it is accuracy."
      ]
    },
    {
      "cell_type": "code",
      "metadata": {
        "ExecuteTime": {
          "end_time": "2019-08-27T15:22:52.758722Z",
          "start_time": "2019-08-27T15:22:52.753700Z"
        },
        "id": "pAb30_mzExat",
        "colab_type": "code",
        "colab": {
          "base_uri": "https://localhost:8080/",
          "height": 34
        },
        "outputId": "6031b859-eec2-4060-bc0d-202a756fb2b6"
      },
      "source": [
        "print(\"R^2: {:g}\".format(model.score(X, y)))"
      ],
      "execution_count": 22,
      "outputs": [
        {
          "output_type": "stream",
          "text": [
            "R^2: 0.606233\n"
          ],
          "name": "stdout"
        }
      ]
    },
    {
      "cell_type": "markdown",
      "metadata": {
        "id": "Svp4sSG8ExbE",
        "colab_type": "text"
      },
      "source": [
        "We used a rather simple model, linear regression. What if we wanted to use a more complicated model? All we need to do is an easy substitution; there is minimum code rewrite as the models have the same interface. Of course, different models have different hyperparameters so we need to be careful when swapping out algorithms. Let's use a more complicated model and train it."
      ]
    },
    {
      "cell_type": "code",
      "metadata": {
        "ExecuteTime": {
          "end_time": "2019-08-27T15:22:53.785362Z",
          "start_time": "2019-08-27T15:22:52.761525Z"
        },
        "id": "Nej-KAgBExbJ",
        "colab_type": "code",
        "colab": {
          "base_uri": "https://localhost:8080/",
          "height": 52
        },
        "outputId": "41201aea-3621-40b7-f007-6e10cd7067e2"
      },
      "source": [
        "from sklearn.ensemble import GradientBoostingRegressor\n",
        "\n",
        "# create model and train/fit\n",
        "model = GradientBoostingRegressor()\n",
        "model.fit(X, y)\n",
        "\n",
        "# predict label values on X\n",
        "y_pred = model.predict(X)\n",
        "\n",
        "print(y_pred)\n",
        "print(\"R^2: {:g}\".format(model.score(X, y)))"
      ],
      "execution_count": 23,
      "outputs": [
        {
          "output_type": "stream",
          "text": [
            "[4.26432728 3.87864519 3.92074556 ... 0.63664692 0.74759279 0.7994969 ]\n",
            "R^2: 0.803324\n"
          ],
          "name": "stdout"
        }
      ]
    },
    {
      "cell_type": "markdown",
      "metadata": {
        "id": "8CrVY5hEExbf",
        "colab_type": "text"
      },
      "source": [
        "## Transformers\n",
        "\n",
        "Transformers are models that process and transform a data set. These transformers are very useful because rarely is our data in a form to feed directly to a machine learning model for both training and predicting. For example, a lot of machine learning models work best when the features have similar scales. All transformers have the same interface:\n",
        "\n",
        "* `fit(X)`: trains/fits the object to the feature matrix $X$.\n",
        "* `transform(X)`: applies the transformation on $X$ using any parameters learned\n",
        "* `fit_transform(X)`: applies both `fit(X)` and then `transform(X)`.\n",
        "\n",
        "Let's demonstrate transformers with `StandardScaler`, which scales each feature to have zero mean and unit variance. The transformed feature $x'_i$ is equal to\n",
        "\n",
        "$$ x'_i = \\frac{x_i - \\mu_i}{\\sigma_i}. $$\n",
        "\n",
        "We'll use pandas to summarize the results of deploying the `StandardScaler` on the California housing data."
      ]
    },
    {
      "cell_type": "code",
      "metadata": {
        "ExecuteTime": {
          "end_time": "2019-08-27T15:22:53.803796Z",
          "start_time": "2019-08-27T15:22:53.786850Z"
        },
        "id": "-iIWKs9bExbs",
        "colab_type": "code",
        "colab": {
          "base_uri": "https://localhost:8080/",
          "height": 300
        },
        "outputId": "83795edb-82d6-4ab6-daa0-4fb1da2dfcd5"
      },
      "source": [
        "from sklearn.preprocessing import StandardScaler\n",
        "\n",
        "# create and fit scaler\n",
        "scaler = StandardScaler()\n",
        "scaler.fit(X)\n",
        "\n",
        "# scale data set\n",
        "Xt = scaler.transform(X)\n",
        "\n",
        "# create data frame with results\n",
        "stats = np.vstack((X.mean(axis=0), X.var(axis=0), Xt.mean(axis=0), Xt.var(axis=0))).T\n",
        "feature_names = data['feature_names']\n",
        "columns = ['unscaled mean', 'unscaled variance', 'scaled mean', 'scaled variance']\n",
        "\n",
        "df = pd.DataFrame(stats, index=feature_names, columns=columns)\n",
        "df"
      ],
      "execution_count": 25,
      "outputs": [
        {
          "output_type": "execute_result",
          "data": {
            "text/html": [
              "<div>\n",
              "<style scoped>\n",
              "    .dataframe tbody tr th:only-of-type {\n",
              "        vertical-align: middle;\n",
              "    }\n",
              "\n",
              "    .dataframe tbody tr th {\n",
              "        vertical-align: top;\n",
              "    }\n",
              "\n",
              "    .dataframe thead th {\n",
              "        text-align: right;\n",
              "    }\n",
              "</style>\n",
              "<table border=\"1\" class=\"dataframe\">\n",
              "  <thead>\n",
              "    <tr style=\"text-align: right;\">\n",
              "      <th></th>\n",
              "      <th>unscaled mean</th>\n",
              "      <th>unscaled variance</th>\n",
              "      <th>scaled mean</th>\n",
              "      <th>scaled variance</th>\n",
              "    </tr>\n",
              "  </thead>\n",
              "  <tbody>\n",
              "    <tr>\n",
              "      <th>MedInc</th>\n",
              "      <td>3.870671</td>\n",
              "      <td>3.609148e+00</td>\n",
              "      <td>6.609700e-17</td>\n",
              "      <td>1.0</td>\n",
              "    </tr>\n",
              "    <tr>\n",
              "      <th>HouseAge</th>\n",
              "      <td>28.639486</td>\n",
              "      <td>1.583886e+02</td>\n",
              "      <td>5.508083e-18</td>\n",
              "      <td>1.0</td>\n",
              "    </tr>\n",
              "    <tr>\n",
              "      <th>AveRooms</th>\n",
              "      <td>5.429000</td>\n",
              "      <td>6.121236e+00</td>\n",
              "      <td>6.609700e-17</td>\n",
              "      <td>1.0</td>\n",
              "    </tr>\n",
              "    <tr>\n",
              "      <th>AveBedrms</th>\n",
              "      <td>1.096675</td>\n",
              "      <td>2.245806e-01</td>\n",
              "      <td>-1.060306e-16</td>\n",
              "      <td>1.0</td>\n",
              "    </tr>\n",
              "    <tr>\n",
              "      <th>Population</th>\n",
              "      <td>1425.476744</td>\n",
              "      <td>1.282408e+06</td>\n",
              "      <td>-1.101617e-17</td>\n",
              "      <td>1.0</td>\n",
              "    </tr>\n",
              "    <tr>\n",
              "      <th>AveOccup</th>\n",
              "      <td>3.070655</td>\n",
              "      <td>1.078648e+02</td>\n",
              "      <td>3.442552e-18</td>\n",
              "      <td>1.0</td>\n",
              "    </tr>\n",
              "    <tr>\n",
              "      <th>Latitude</th>\n",
              "      <td>35.631861</td>\n",
              "      <td>4.562072e+00</td>\n",
              "      <td>-1.079584e-15</td>\n",
              "      <td>1.0</td>\n",
              "    </tr>\n",
              "    <tr>\n",
              "      <th>Longitude</th>\n",
              "      <td>-119.569704</td>\n",
              "      <td>4.013945e+00</td>\n",
              "      <td>-8.526513e-15</td>\n",
              "      <td>1.0</td>\n",
              "    </tr>\n",
              "  </tbody>\n",
              "</table>\n",
              "</div>"
            ],
            "text/plain": [
              "            unscaled mean  unscaled variance   scaled mean  scaled variance\n",
              "MedInc           3.870671       3.609148e+00  6.609700e-17              1.0\n",
              "HouseAge        28.639486       1.583886e+02  5.508083e-18              1.0\n",
              "AveRooms         5.429000       6.121236e+00  6.609700e-17              1.0\n",
              "AveBedrms        1.096675       2.245806e-01 -1.060306e-16              1.0\n",
              "Population    1425.476744       1.282408e+06 -1.101617e-17              1.0\n",
              "AveOccup         3.070655       1.078648e+02  3.442552e-18              1.0\n",
              "Latitude        35.631861       4.562072e+00 -1.079584e-15              1.0\n",
              "Longitude     -119.569704       4.013945e+00 -8.526513e-15              1.0"
            ]
          },
          "metadata": {
            "tags": []
          },
          "execution_count": 25
        }
      ]
    }
  ]
}