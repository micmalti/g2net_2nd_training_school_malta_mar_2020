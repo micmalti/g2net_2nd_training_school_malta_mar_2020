{
 "cells": [
  {
   "cell_type": "markdown",
   "metadata": {},
   "source": [
    "<img style=\"float: left;padding: 1.3em\" src=\"https://indico.in2p3.fr/event/18313/logo-786578160.png\">  \n",
    "\n",
    "# 2nd g2net training school - [CA17137](www.g2net.eu), Malta 09-13 March, 2020\n",
    "## CA17137 - A network for Gravitational Waves, Geophysics and Machine Learning\n",
    "\n",
    "Acknowledgement: Some of the materials for gravitational wave processing are borrowed and adopted from the\n",
    " [Gravitational Wave Open Data Workshop #2](https://www.gw-openscience.org/s/workshop2/)\n",
    "\n",
    "\n",
    "A talk by [Eftim Zdravevski, Ph.D.](https://scholar.google.com/citations?user=1EToDhEAAAAJ&hl=en)\n",
    "\n",
    "- Assistant professor at [Faculty of Computer Science and Engineering, University Ss. Cyril and Methodius in Skopje, Macedonia](https://finki.ukim.mk/)\n",
    "[<img style=\"float: left;padding: 1.3em\" src=\"https://finki.ukim.mk/sites/default/files/logo_10.png.en\" width=\"400\">](https://finki.ukim.mk/)"
   ]
  },
  {
   "cell_type": "markdown",
   "metadata": {},
   "source": [
    "- CEO at [MAGIX.AI](https://magix.ai)\n",
    "\n",
    "[<img style=\"float: left;padding: 1.3em\" src=\"https://magix.ai/wp-content/uploads/2019/02/magix_logo.png\" width=\"400\">](https://magix.ai)"
   ]
  },
  {
   "cell_type": "markdown",
   "metadata": {},
   "source": [
    "------\n",
    "## Agenda\n",
    "\n",
    "The format of this notebook is as follows:\n",
    "\n",
    "* **<span style=\"color:blue\">Introduction to jupyter, virtual environments, pandas, plotly, cufflinks, matplotlib...</span>**\n",
    "    * We'll be working with some python classes that may be unfamiliar.\n",
    "* **<span style=\"color:blue\">Analyzing some sensory data</span>**\n",
    "    * Multichannel accelerometer and ECG data \n",
    "* **<span style=\"color:blue\">Warmup: AR Processes</span>**\n",
    "    * This is to gain familiarity with AR Processes and/or using the python implementations before working on real data. This may be skipped by those who have the necessary background.\n",
    "* **<span style=\"color:blue\">Introducing the MHEALTH dataset</span>**\n",
    "    * This is the real-world dataset that we'll be using in our exercises. A brief introduction is given here.\n",
    "* **<span style=\"color:blue\">Exercise 1: Modelling and predicting sequential data.</span>**\n",
    "    * This is a chance to use your knowledge of AR processes in practice.\n",
    "* **<span style=\"color:blue\">Exercise 2: Time Series Classification.</span>**\n",
    "    * Here we'll cover a method for classifying sections of a time series.\n"
   ]
  },
  {
   "cell_type": "markdown",
   "metadata": {},
   "source": [
    "## Useful links\n",
    "\n",
    "- [Installing python](https://realpython.com/installing-python/)\n",
    "- [Creating virual environments in Jupyter Notebooks for windows with Anaconda](https://medium.com/@utkarsh.ankit09/a-simple-guide-for-creating-virtual-environment-in-jupyter-notebook-python-for-windows-1649041aaae1)\n",
    "- [Managing virtual environments](https://janakiev.com/blog/jupyter-virtual-envs/)\n",
    "\n",
    "Installation on Windows (without Anaconda, just regular python):\n",
    "`\n",
    "pip install jupyter\n",
    "pip install ipykernel\n",
    "python -m venv .my_venv\n",
    "python -m ipykernel install --user --name=.my_venv\n",
    "`"
   ]
  },
  {
   "cell_type": "markdown",
   "metadata": {},
   "source": [
    "## Creating a virtual environment\n",
    "\n",
    "### Install on Mac OS X\n",
    "\n",
    "To install the requirements on Mac OS X it is recommended to have a virtual environment setup first.\n",
    "To do that run:\n",
    "\n",
    "#### Install virtualenv  \n",
    "First install virtualenv: `sudo pip install virtualenv`\n",
    "    \n",
    "    \n",
    "Then navigate to your project folder:\n",
    "\n",
    "`cd ~/signal_processing_intro`\n",
    "\n",
    "And finally run: `virtualenv .venv -p python3.7`\n",
    "\n",
    "This will install your virtual environment in a folder `~/signal_processing_intro/.venv` with a python version 3.7 which is recommended for this project.\n",
    " \n",
    "#### Install project requirements\n",
    "\n",
    "Once you have `virtualenv` installed, activate your virtual environment:\n",
    "\n",
    "    source ~/signal_processing_intro/.venv/bin/activate\n",
    "\n",
    "and to install the project requirements run:\n",
    "\n",
    "    cd ~/signal_processing_intro\n",
    "    pip install -r requirements.txt\n",
    "\n",
    "\n",
    "### Install on Ubuntu\n",
    "\n",
    "To install the requirements on Mac OS X it is recommended to have a virtual environment setup first.\n",
    "To do that run:\n",
    "\n",
    "#### Install virtualenv  \n",
    "First install virtualenv\n",
    "\n",
    "    sudo apt-get install python3-pip\n",
    "    sudo pip3 install virtualenv\n",
    "    \n",
    "    \n",
    "Then navigate to your project folder:\n",
    "\n",
    "    cd ~/signal_processing_intro\n",
    "\n",
    "And finally run\n",
    "\n",
    "    virtualenv -p /usr/bin/python3.7 .venv\n",
    "\n",
    "This will install your virtual environment in a folder `~/signal_processing_intro/.venv` with a python version 3.7 which is recommended for this project.\n"
   ]
  },
  {
   "cell_type": "markdown",
   "metadata": {},
   "source": [
    "### Using Anaconda\n",
    "We assume that Python 3 + Anaconda are installed; furthermore the following packages are required:\n",
    "\n",
    "* numpy\n",
    "* pandas\n",
    "* statsmodels\n",
    "* matplotlib\n",
    "* scikit-learn\n",
    "* jupyter (!)\n",
    "\n",
    "If you don't have a Python 3 installation, we highly recommend installing Anaconda. See installation instructions [here](https://conda.io/docs/user-guide/install/index.html).\n",
    "\n",
    "If an environment is not already available with the above packages, we recommend creating a new one with the following command:\n",
    "\n",
    "`conda create -n signal_processing_intro python=3  matplotlib numpy pandas statsmodels scikit-learn jupyter`\n",
    "\n",
    "and choose 'Python3 (timeseries)' as the kernel when starting this notebook. \n",
    "\n",
    "--------------"
   ]
  },
  {
   "cell_type": "markdown",
   "metadata": {},
   "source": [
    "## Required packages\n",
    "\n",
    "Listed in the requirements.txt file.\n",
    "Install with:\n",
    "\n",
    "`pip3 install -r --user requirements.txt`"
   ]
  },
  {
   "cell_type": "markdown",
   "metadata": {},
   "source": [
    "To run a following cell (shortcut: `ctrl`+`Enter` or `Shift`+`Enter`) and continue with the exercises below."
   ]
  }
 ],
 "metadata": {
  "kernelspec": {
   "display_name": "Python 3",
   "language": "python",
   "name": "python3"
  },
  "latex_envs": {
   "LaTeX_envs_menu_present": true,
   "autoclose": false,
   "autocomplete": true,
   "bibliofile": "biblio.bib",
   "cite_by": "apalike",
   "current_citInitial": 1,
   "eqLabelWithNumbers": true,
   "eqNumInitial": 1,
   "hotkeys": {
    "equation": "Ctrl-E",
    "itemize": "Ctrl-I"
   },
   "labels_anchors": false,
   "latex_user_defs": false,
   "report_style_numbering": false,
   "user_envs_cfg": false
  },
  "pycharm": {
   "stem_cell": {
    "cell_type": "raw",
    "source": [],
    "metadata": {
     "collapsed": false
    }
   }
  }
 },
 "nbformat": 4,
 "nbformat_minor": 2
}